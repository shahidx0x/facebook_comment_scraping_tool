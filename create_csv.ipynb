import pandas as pd
import os

labels = ['NI', 'CCI', 'IS', 'DPI', '3G4G', 'PR', 'AVL', 'MFS']
file_path = '/content/labels.csv'  # Replace with the desired file path

# Check if the CSV file exists
if not os.path.isfile(file_path):
    # Write labels to the CSV file if it doesn't exist
    df = pd.DataFrame(columns=labels)
    df.to_csv(file_path, index=False)
    print('CSV file generated successfully.')

# Infinite loop to take data based on labels and append to CSV file
exit_door = False
while True:
    if exit_door:
        break
    data = {}
    for label in labels:
        value = input(f"Enter data for label '{label}' (or type 'exit' to quit): ")
        if value.lower() == "exit":
            exit_door = True
            break
        data[label] = value
    
    # Read existing CSV data
    df = pd.read_csv(file_path)
    
    # Append data to the CSV file
    df = df.append(data, ignore_index=True)
    df.to_csv(file_path, index=False)

    print('Data appended to CSV file successfully.')
