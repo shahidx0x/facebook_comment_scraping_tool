file_path = "/content/comment.txt"

with open(file_path, "r") as file:
    lines = file.readlines()

# Remove leading and trailing whitespace from each line using strip
lines = [line.strip() for line in lines if len(line.strip()) > 10 and not line.strip().isdigit()]

# Remove strings starting with "প্রিয়"
lines = [line for line in lines if not line.startswith("প্রিয়" or "Dear")]

# Remove duplicates using set
lines = list(set(lines))

# Print the updated lines
for line in lines:
    print(line)
